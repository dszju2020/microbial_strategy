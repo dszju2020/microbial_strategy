{
 "cells": [
  {
   "cell_type": "code",
   "execution_count": 1,
   "id": "3e27bf50-a1d0-46cc-8573-e1c7ce94f4ca",
   "metadata": {},
   "outputs": [],
   "source": [
    "# Select the required modeling tools in the system\n",
    "import numpy as np\n",
    "from numpy import arange\n",
    "from matplotlib import pyplot\n",
    "import pandas as pd\n",
    "from pandas import  set_option\n",
    "from pandas.plotting import scatter_matrix\n",
    "from sklearn.preprocessing import StandardScaler\n",
    "from sklearn.model_selection import train_test_split\n",
    "from sklearn.model_selection import KFold\n",
    "from sklearn.model_selection import cross_val_score\n",
    "from sklearn.model_selection import GridSearchCV\n",
    "\n",
    "# Import LR model, DT model, RF model, KNN model\n",
    "from sklearn.linear_model import LinearRegression\n",
    "from sklearn.neighbors import KNeighborsRegressor\n",
    "from sklearn.tree import DecisionTreeRegressor\n",
    "from sklearn.ensemble import RandomForestRegressor\n",
    "\n",
    "# stacking\n",
    "from mlxtend.regressor import StackingRegressor\n",
    "from mlxtend.regressor import StackingCVRegressor\n",
    "from sklearn.pipeline import Pipeline\n",
    "\n",
    "# Import evaluation indicators\n",
    "from sklearn.metrics import mean_squared_error, r2_score\n",
    "from sklearn.metrics import mean_absolute_error"
   ]
  },
  {
   "cell_type": "code",
   "execution_count": 2,
   "id": "d324d51a-98f6-4f9b-a2ef-a41e8a51a42b",
   "metadata": {},
   "outputs": [
    {
     "data": {
      "text/html": [
       "<div>\n",
       "<style scoped>\n",
       "    .dataframe tbody tr th:only-of-type {\n",
       "        vertical-align: middle;\n",
       "    }\n",
       "\n",
       "    .dataframe tbody tr th {\n",
       "        vertical-align: top;\n",
       "    }\n",
       "\n",
       "    .dataframe thead th {\n",
       "        text-align: right;\n",
       "    }\n",
       "</style>\n",
       "<table border=\"1\" class=\"dataframe\">\n",
       "  <thead>\n",
       "    <tr style=\"text-align: right;\">\n",
       "      <th></th>\n",
       "      <th>Lactobacillus</th>\n",
       "      <th>Sphingobacterium</th>\n",
       "      <th>Staphylococcus</th>\n",
       "      <th>Pediococcus</th>\n",
       "      <th>Oceanobacillus</th>\n",
       "      <th>Cohesion</th>\n",
       "    </tr>\n",
       "    <tr>\n",
       "      <th>sample</th>\n",
       "      <th></th>\n",
       "      <th></th>\n",
       "      <th></th>\n",
       "      <th></th>\n",
       "      <th></th>\n",
       "      <th></th>\n",
       "    </tr>\n",
       "  </thead>\n",
       "  <tbody>\n",
       "    <tr>\n",
       "      <th>0</th>\n",
       "      <td>61.3688</td>\n",
       "      <td>2.1642</td>\n",
       "      <td>0.2034</td>\n",
       "      <td>1.4533</td>\n",
       "      <td>0.1382</td>\n",
       "      <td>0.9369</td>\n",
       "    </tr>\n",
       "    <tr>\n",
       "      <th>1</th>\n",
       "      <td>35.6440</td>\n",
       "      <td>0.9823</td>\n",
       "      <td>0.1818</td>\n",
       "      <td>0.5699</td>\n",
       "      <td>0.1020</td>\n",
       "      <td>0.7974</td>\n",
       "    </tr>\n",
       "    <tr>\n",
       "      <th>2</th>\n",
       "      <td>86.0404</td>\n",
       "      <td>0.3686</td>\n",
       "      <td>0.2114</td>\n",
       "      <td>0.8978</td>\n",
       "      <td>0.1013</td>\n",
       "      <td>1.2641</td>\n",
       "    </tr>\n",
       "    <tr>\n",
       "      <th>3</th>\n",
       "      <td>3.6153</td>\n",
       "      <td>0.7897</td>\n",
       "      <td>0.1974</td>\n",
       "      <td>0.0720</td>\n",
       "      <td>0.1378</td>\n",
       "      <td>0.3110</td>\n",
       "    </tr>\n",
       "    <tr>\n",
       "      <th>4</th>\n",
       "      <td>2.6453</td>\n",
       "      <td>0.8683</td>\n",
       "      <td>0.0613</td>\n",
       "      <td>0.0333</td>\n",
       "      <td>0.0438</td>\n",
       "      <td>0.1892</td>\n",
       "    </tr>\n",
       "  </tbody>\n",
       "</table>\n",
       "</div>"
      ],
      "text/plain": [
       "        Lactobacillus  Sphingobacterium  Staphylococcus  Pediococcus  \\\n",
       "sample                                                                 \n",
       "0             61.3688            2.1642          0.2034       1.4533   \n",
       "1             35.6440            0.9823          0.1818       0.5699   \n",
       "2             86.0404            0.3686          0.2114       0.8978   \n",
       "3              3.6153            0.7897          0.1974       0.0720   \n",
       "4              2.6453            0.8683          0.0613       0.0333   \n",
       "\n",
       "        Oceanobacillus  Cohesion  \n",
       "sample                            \n",
       "0               0.1382    0.9369  \n",
       "1               0.1020    0.7974  \n",
       "2               0.1013    1.2641  \n",
       "3               0.1378    0.3110  \n",
       "4               0.0438    0.1892  "
      ]
     },
     "execution_count": 2,
     "metadata": {},
     "output_type": "execute_result"
    }
   ],
   "source": [
    "# import data\n",
    "dataset = pd.read_csv(\"D:\\\\XXXX.csv\", index_col=0)\n",
    "dataset.head()"
   ]
  },
  {
   "cell_type": "code",
   "execution_count": 3,
   "id": "8e3f07e9-a033-4c06-9005-bbe09d11ab0b",
   "metadata": {},
   "outputs": [],
   "source": [
    "# Divide data into training and test sets\n",
    "Y = dataset.Cohesion\n",
    "X = dataset.drop('Cohesion', axis = 1)\n",
    "X_train, X_test, Y_train, Y_test = train_test_split(X, Y,test_size=0.3, random_state=7)"
   ]
  },
  {
   "cell_type": "code",
   "execution_count": 4,
   "id": "d0cf2e82-6124-4899-b227-d0e034f4b70f",
   "metadata": {},
   "outputs": [],
   "source": [
    "# Select evaluation criteria\n",
    "scoring1 = 'neg_mean_squared_error'\n",
    "scoring2 = 'r2'\n",
    "scoring1 = 'mean_absolute_error'"
   ]
  },
  {
   "cell_type": "code",
   "execution_count": 5,
   "id": "f43b8c37-0c6d-4fb2-92f1-5ee5e156c70c",
   "metadata": {},
   "outputs": [],
   "source": [
    "# Basic model and secondary model\n",
    "lr = LinearRegression()\n",
    "knn = KNeighborsRegressor(n_neighbors = 3)\n",
    "dt = DecisionTreeRegressor(max_depth= 19, min_samples_leaf= 11, min_samples_split= 10)\n",
    "rf = RandomForestRegressor(n_estimators = 700)"
   ]
  },
  {
   "cell_type": "code",
   "execution_count": 6,
   "id": "336fa8fd-338b-47d8-8946-0a68bcc6bfcc",
   "metadata": {},
   "outputs": [],
   "source": [
    "# \n",
    "models = [dt, knn, rf]\n",
    "sclf = StackingCVRegressor(regressors=models, meta_regressor=lr)"
   ]
  },
  {
   "cell_type": "code",
   "execution_count": 7,
   "id": "bedc3ada-cc0f-4863-8d9f-3c337008a5ea",
   "metadata": {},
   "outputs": [
    {
     "name": "stdout",
     "output_type": "stream",
     "text": [
      "stacking model\n",
      "0.9547009735717518 +/- 0.013462493916962883\n"
     ]
    }
   ],
   "source": [
    "# \n",
    "print(\"stacking model\")\n",
    "scaler = StandardScaler().fit(X_train)\n",
    "rescaledX = scaler.transform(X_train)\n",
    "sclf.fit(rescaledX, Y_train)\n",
    "score = cross_val_score(sclf, rescaledX, Y_train, cv=5, scoring=scoring2)\n",
    "print(score.mean(), \"+/-\", score.std())"
   ]
  },
  {
   "cell_type": "code",
   "execution_count": 8,
   "id": "3abcdeea-f015-45b7-bad5-849f2be18f02",
   "metadata": {},
   "outputs": [
    {
     "name": "stdout",
     "output_type": "stream",
     "text": [
      "Training_data，MSE：0.001135136342130834\n",
      "Training_data，MAE：0.028674281821777458\n",
      "Training_data，R2：0.9908473521227374\n",
      "Testing_data，MSE：0.004729925955890493\n",
      "Testing_data，MAE：0.0535494277172577\n",
      "Testing_data，R2：0.9640730463334776\n"
     ]
    }
   ],
   "source": [
    "# the Stacking Model\n",
    "scaler = StandardScaler().fit(X_train)\n",
    "rescaledX = scaler.transform(X_train)\n",
    "sclf = StackingCVRegressor(regressors=models, meta_regressor=lr)\n",
    "sclf.fit(rescaledX, Y_train)\n",
    "\n",
    "# Evaluate the training set\n",
    "rescaledX_train = scaler.transform(X_train)\n",
    "pre_train = sclf.predict(rescaledX_train)\n",
    "print('Training_data，MSE：%s' % (mean_squared_error(Y_train, pre_train)))\n",
    "print('Training_data，MAE：%s' % (mean_absolute_error(Y_train, pre_train)))\n",
    "print('Training_data，R2：%s' %  (r2_score(Y_train, pre_train)))\n",
    "\n",
    "# Evaluation the testing set\n",
    "rescaledX_test = scaler.transform(X_test)\n",
    "pre_test = sclf.predict(rescaledX_test)\n",
    "print('Testing_data，MSE：%s' % (mean_squared_error(Y_test, pre_test)))\n",
    "print('Testing_data，MAE：%s' % (mean_absolute_error(Y_test, pre_test)))\n",
    "print('Testing_data，R2：%s' % (r2_score(Y_test, pre_test)))"
   ]
  },
  {
   "cell_type": "code",
   "execution_count": null,
   "id": "b03d54b4-a821-41b2-982d-8c248a02bb61",
   "metadata": {},
   "outputs": [],
   "source": [
    "#Data saving\n",
    "#training set \n",
    "trainSt = pd.DataFrame(data = Y_train)\n",
    "trainSt.to_csv(\"D:\\\\XXXX.csv\")\n",
    "#training set \n",
    "pretrainSt = pd.DataFrame(data = pre_train)\n",
    "pretrainSt.to_csv('D:\\\\XXX.csv')\n",
    "\n",
    "#testing set \n",
    "testSt = pd.DataFrame(data = Y_test)\n",
    "testSt.to_csv('D:\\\\XXX.csv')\n",
    "#testing set \n",
    "pretestSt = pd.DataFrame(data = pre_test)\n",
    "pretestSt.to_csv('D:\\\\XXX.csv')"
   ]
  },
  {
   "cell_type": "code",
   "execution_count": 9,
   "id": "58531201-ccea-4f95-8f2d-da3662e98ebc",
   "metadata": {},
   "outputs": [
    {
     "name": "stdout",
     "output_type": "stream",
     "text": [
      "Predicted cohesion: [1.25088311]\n"
     ]
    },
    {
     "name": "stderr",
     "output_type": "stream",
     "text": [
      "C:\\Users\\noyon\\anaconda3\\Lib\\site-packages\\sklearn\\base.py:493: UserWarning: X does not have valid feature names, but StandardScaler was fitted with feature names\n",
      "  warnings.warn(\n"
     ]
    }
   ],
   "source": [
    "# Input new data and predict cohesion\n",
    "def predict_new_data(new_data):\n",
    "    # Ensure that the input new data is in the form of a 2D array, i.e., [[data1, data2, data3, data4, data5]]\n",
    "    rescaled_new_data = scaler.transform(new_data)\n",
    "    prediction = sclf.predict(rescaled_new_data)\n",
    "    return prediction\n",
    "\n",
    "# Predicted cohesion\n",
    "new_microbial_data = [[86.0404, 0.3686, 0.2114, 0.8978, 0.1013]]  # New microbial genus data (input in order)\n",
    "predicted_cohesion = predict_new_data(new_microbial_data)\n",
    "print('Predicted cohesion: %s' % predicted_cohesion)"
   ]
  },
  {
   "cell_type": "code",
   "execution_count": null,
   "id": "68a8770c-8929-498b-a2bf-a8bb0cadbe65",
   "metadata": {},
   "outputs": [],
   "source": []
  }
 ],
 "metadata": {
  "kernelspec": {
   "display_name": "Python 3 (ipykernel)",
   "language": "python",
   "name": "python3"
  },
  "language_info": {
   "codemirror_mode": {
    "name": "ipython",
    "version": 3
   },
   "file_extension": ".py",
   "mimetype": "text/x-python",
   "name": "python",
   "nbconvert_exporter": "python",
   "pygments_lexer": "ipython3",
   "version": "3.11.8"
  }
 },
 "nbformat": 4,
 "nbformat_minor": 5
}
