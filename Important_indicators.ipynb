{
 "cells": [
  {
   "cell_type": "code",
   "execution_count": null,
   "id": "540d894e-4a15-4b63-8248-97178e9370bc",
   "metadata": {},
   "outputs": [],
   "source": [
    "#\n",
    "import numpy as np\n",
    "from numpy import arange\n",
    "from matplotlib import pyplot\n",
    "import pandas as pd\n",
    "from pandas import  set_option\n",
    "from pandas.plotting import scatter_matrix\n",
    "from sklearn.preprocessing import StandardScaler\n",
    "from sklearn.model_selection import train_test_split\n",
    "from sklearn.model_selection import KFold\n",
    "from sklearn.model_selection import cross_val_score\n",
    "from sklearn.model_selection import GridSearchCV\n",
    "from sklearn.pipeline import Pipeline\n",
    "from sklearn.ensemble import RandomForestRegressor\n",
    "from sklearn.model_selection import RandomizedSearchCV"
   ]
  },
  {
   "cell_type": "code",
   "execution_count": null,
   "id": "e144cdd6-d877-4a21-986c-2a8efc64401d",
   "metadata": {},
   "outputs": [],
   "source": [
    "# data\n",
    "dataset = pd.read_csv(\"D:\\\\code_mode_3.csv\", index_col=0)\n",
    "dataset.head()"
   ]
  },
  {
   "cell_type": "code",
   "execution_count": null,
   "id": "bafe42e2-2295-4aa6-9970-2d20ee8da7ab",
   "metadata": {},
   "outputs": [],
   "source": [
    "#\n",
    "Y = dataset.Cohesion\n",
    "X = dataset.drop('Cohesion', axis = 1)\n",
    "X_train, X_test, Y_train, Y_test = train_test_split(X, Y,test_size=0.3, random_state=7)"
   ]
  },
  {
   "cell_type": "code",
   "execution_count": null,
   "id": "9c50126d-94f6-4377-8f0f-5a47d11e1cd9",
   "metadata": {},
   "outputs": [],
   "source": [
    "#\n",
    "from sklearn.metrics import mean_squared_error, r2_score\n",
    "from sklearn.metrics import mean_absolute_error"
   ]
  },
  {
   "cell_type": "code",
   "execution_count": null,
   "id": "817c4ffc-c3b5-41a6-8733-b87659927f65",
   "metadata": {},
   "outputs": [],
   "source": [
    "# \n",
    "num_folds = 5\n",
    "scoring1 = 'neg_mean_squared_error'\n",
    "scoring2 = 'r2'\n",
    "scoring3 = 'neg_mean_absolute_error'"
   ]
  },
  {
   "cell_type": "code",
   "execution_count": null,
   "id": "26bbd445-c6df-47f4-939d-46f04a2fae85",
   "metadata": {},
   "outputs": [],
   "source": [
    "#\n",
    "scaler = StandardScaler().fit(X_train)\n",
    "rescaledX = scaler.transform(X_train)\n",
    "rf= RandomForestRegressor(max_depth = 300, max_features = 10, min_samples_leaf = 1, \n",
    "                          min_samples_split = 3, n_estimators = 60)\n",
    "rf.fit(rescaledX, Y_train)\n",
    "\n",
    "# Evaluate the training set\n",
    "rescaledX_train = scaler.transform(X_train)\n",
    "pre_train = rf.predict(rescaledX_train)\n",
    "print('Training_data，MSE：%s' % (mean_squared_error(Y_train, pre_train)))\n",
    "print('Training_data，MAE：%s' % (mean_absolute_error(Y_train, pre_train)))\n",
    "print('Training_data，R2：%s' %  (r2_score(Y_train, pre_train)))\n",
    "\n",
    "# Evaluation the testing set\n",
    "rescaledX_test = scaler.transform(X_test)\n",
    "pre_test = rf.predict(rescaledX_test)\n",
    "print('Testing_data，MSE：%s' % (mean_squared_error(Y_test, pre_test)))\n",
    "print('Testing_data，MAE：%s' % (mean_absolute_error(Y_test, pre_test)))\n",
    "print('Testing_data，R2：%s' % (r2_score(Y_test, pre_test)))"
   ]
  },
  {
   "cell_type": "code",
   "execution_count": null,
   "id": "d8ca4da0-ed41-4fb6-b19e-ddbd9955a2de",
   "metadata": {},
   "outputs": [],
   "source": [
    "# Obtain feature importance scores\n",
    "feature_importances = rf.feature_importances_\n",
    "# Create a list of feature names\n",
    "feature_names = list(X.columns)\n",
    "# Create a DataFrame containing the feature name and its importance score\n",
    "feature_importances_df = pd.DataFrame({'feature': feature_names, 'importance': feature_importances})\n",
    "# Rank feature importance scores\n",
    "feature_importances_df = feature_importances_df.sort_values('importance', ascending=False)\n",
    "feature_importances_df.head(50)"
   ]
  },
  {
   "cell_type": "code",
   "execution_count": null,
   "id": "1a6ee175-18ac-45bc-9245-2e7acacc2974",
   "metadata": {},
   "outputs": [],
   "source": []
  }
 ],
 "metadata": {
  "kernelspec": {
   "display_name": "Python 3 (ipykernel)",
   "language": "python",
   "name": "python3"
  },
  "language_info": {
   "codemirror_mode": {
    "name": "ipython",
    "version": 3
   },
   "file_extension": ".py",
   "mimetype": "text/x-python",
   "name": "python",
   "nbconvert_exporter": "python",
   "pygments_lexer": "ipython3",
   "version": "3.11.8"
  }
 },
 "nbformat": 4,
 "nbformat_minor": 5
}
